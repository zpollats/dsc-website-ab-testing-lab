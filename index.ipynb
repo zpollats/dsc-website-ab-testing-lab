{
 "cells": [
  {
   "cell_type": "markdown",
   "metadata": {},
   "source": [
    "# Website A/B Testing - Lab\n",
    "\n",
    "## Introduction\n",
    "\n",
    "In this lab, you'll get another chance to practice your skills at conducting a full A/B test analysis. It will also be a chance to practice your data exploration and processing skills! The scenario you'll be investigating is data collected from the homepage of a music app page for audacity.\n",
    "\n",
    "## Objectives\n",
    "\n",
    "You will be able to:\n",
    "* Analyze the data from a website A/B test to draw relevant conclusions\n",
    "* Explore and analyze web action data"
   ]
  },
  {
   "cell_type": "markdown",
   "metadata": {},
   "source": [
    "## Exploratory Analysis\n",
    "\n",
    "Start by loading in the dataset stored in the file 'homepage_actions.csv'. Then conduct an exploratory analysis to get familiar with the data."
   ]
  },
  {
   "cell_type": "markdown",
   "metadata": {},
   "source": [
    "> Hints:\n",
    "    * Start investigating the id column:\n",
    "        * How many viewers also clicked?\n",
    "        * Are there any anomalies with the data; did anyone click who didn't view?\n",
    "        * Is there any overlap between the control and experiment groups? \n",
    "            * If so, how do you plan to account for this in your experimental design?"
   ]
  },
  {
   "cell_type": "code",
   "execution_count": 2,
   "metadata": {},
   "outputs": [],
   "source": [
    "import pandas as pd\n",
    "import numpy as np\n",
    "from scipy import stats"
   ]
  },
  {
   "cell_type": "code",
   "execution_count": 3,
   "metadata": {
    "scrolled": true
   },
   "outputs": [
    {
     "data": {
      "text/html": [
       "<div>\n",
       "<style scoped>\n",
       "    .dataframe tbody tr th:only-of-type {\n",
       "        vertical-align: middle;\n",
       "    }\n",
       "\n",
       "    .dataframe tbody tr th {\n",
       "        vertical-align: top;\n",
       "    }\n",
       "\n",
       "    .dataframe thead th {\n",
       "        text-align: right;\n",
       "    }\n",
       "</style>\n",
       "<table border=\"1\" class=\"dataframe\">\n",
       "  <thead>\n",
       "    <tr style=\"text-align: right;\">\n",
       "      <th></th>\n",
       "      <th>timestamp</th>\n",
       "      <th>id</th>\n",
       "      <th>group</th>\n",
       "      <th>action</th>\n",
       "    </tr>\n",
       "  </thead>\n",
       "  <tbody>\n",
       "    <tr>\n",
       "      <th>0</th>\n",
       "      <td>2016-09-24 17:42:27.839496</td>\n",
       "      <td>804196</td>\n",
       "      <td>experiment</td>\n",
       "      <td>view</td>\n",
       "    </tr>\n",
       "    <tr>\n",
       "      <th>1</th>\n",
       "      <td>2016-09-24 19:19:03.542569</td>\n",
       "      <td>434745</td>\n",
       "      <td>experiment</td>\n",
       "      <td>view</td>\n",
       "    </tr>\n",
       "    <tr>\n",
       "      <th>2</th>\n",
       "      <td>2016-09-24 19:36:00.944135</td>\n",
       "      <td>507599</td>\n",
       "      <td>experiment</td>\n",
       "      <td>view</td>\n",
       "    </tr>\n",
       "    <tr>\n",
       "      <th>3</th>\n",
       "      <td>2016-09-24 19:59:02.646620</td>\n",
       "      <td>671993</td>\n",
       "      <td>control</td>\n",
       "      <td>view</td>\n",
       "    </tr>\n",
       "    <tr>\n",
       "      <th>4</th>\n",
       "      <td>2016-09-24 20:26:14.466886</td>\n",
       "      <td>536734</td>\n",
       "      <td>experiment</td>\n",
       "      <td>view</td>\n",
       "    </tr>\n",
       "  </tbody>\n",
       "</table>\n",
       "</div>"
      ],
      "text/plain": [
       "                    timestamp      id       group action\n",
       "0  2016-09-24 17:42:27.839496  804196  experiment   view\n",
       "1  2016-09-24 19:19:03.542569  434745  experiment   view\n",
       "2  2016-09-24 19:36:00.944135  507599  experiment   view\n",
       "3  2016-09-24 19:59:02.646620  671993     control   view\n",
       "4  2016-09-24 20:26:14.466886  536734  experiment   view"
      ]
     },
     "execution_count": 3,
     "metadata": {},
     "output_type": "execute_result"
    }
   ],
   "source": [
    "#Your code here\n",
    "df = pd.read_csv('homepage_actions.csv')\n",
    "df.head()"
   ]
  },
  {
   "cell_type": "code",
   "execution_count": 4,
   "metadata": {},
   "outputs": [
    {
     "name": "stdout",
     "output_type": "stream",
     "text": [
      "<class 'pandas.core.frame.DataFrame'>\n",
      "RangeIndex: 8188 entries, 0 to 8187\n",
      "Data columns (total 4 columns):\n",
      " #   Column     Non-Null Count  Dtype \n",
      "---  ------     --------------  ----- \n",
      " 0   timestamp  8188 non-null   object\n",
      " 1   id         8188 non-null   int64 \n",
      " 2   group      8188 non-null   object\n",
      " 3   action     8188 non-null   object\n",
      "dtypes: int64(1), object(3)\n",
      "memory usage: 256.0+ KB\n"
     ]
    }
   ],
   "source": [
    "df.info()"
   ]
  },
  {
   "cell_type": "code",
   "execution_count": 6,
   "metadata": {},
   "outputs": [
    {
     "data": {
      "text/plain": [
       "control       4264\n",
       "experiment    3924\n",
       "Name: group, dtype: int64"
      ]
     },
     "execution_count": 6,
     "metadata": {},
     "output_type": "execute_result"
    }
   ],
   "source": [
    "df.describe()\n",
    "df['group'].value_counts()"
   ]
  },
  {
   "cell_type": "markdown",
   "metadata": {},
   "source": [
    "## Conduct a Statistical Test\n",
    "\n",
    "Conduct a statistical test to determine whether the experimental homepage was more effective than that of the control group."
   ]
  },
  {
   "cell_type": "code",
   "execution_count": 8,
   "metadata": {},
   "outputs": [
    {
     "name": "stdout",
     "output_type": "stream",
     "text": [
      "Sample sizes:\tControl: 3332\tExperiment: 2996\n",
      "Total Clicks:\tControl: 932.0\tExperiment: 928.0\n",
      "Average click rate:\tControl: 0.2797118847539016\tExperiment: 0.3097463284379172\n"
     ]
    },
    {
     "data": {
      "text/html": [
       "<div>\n",
       "<style scoped>\n",
       "    .dataframe tbody tr th:only-of-type {\n",
       "        vertical-align: middle;\n",
       "    }\n",
       "\n",
       "    .dataframe tbody tr th {\n",
       "        vertical-align: top;\n",
       "    }\n",
       "\n",
       "    .dataframe thead th {\n",
       "        text-align: right;\n",
       "    }\n",
       "</style>\n",
       "<table border=\"1\" class=\"dataframe\">\n",
       "  <thead>\n",
       "    <tr style=\"text-align: right;\">\n",
       "      <th>action</th>\n",
       "      <th>click</th>\n",
       "      <th>view</th>\n",
       "    </tr>\n",
       "    <tr>\n",
       "      <th>id</th>\n",
       "      <th></th>\n",
       "      <th></th>\n",
       "    </tr>\n",
       "  </thead>\n",
       "  <tbody>\n",
       "    <tr>\n",
       "      <th>182994</th>\n",
       "      <td>1.0</td>\n",
       "      <td>1.0</td>\n",
       "    </tr>\n",
       "    <tr>\n",
       "      <th>183089</th>\n",
       "      <td>0.0</td>\n",
       "      <td>1.0</td>\n",
       "    </tr>\n",
       "    <tr>\n",
       "      <th>183248</th>\n",
       "      <td>1.0</td>\n",
       "      <td>1.0</td>\n",
       "    </tr>\n",
       "    <tr>\n",
       "      <th>183515</th>\n",
       "      <td>0.0</td>\n",
       "      <td>1.0</td>\n",
       "    </tr>\n",
       "    <tr>\n",
       "      <th>183524</th>\n",
       "      <td>0.0</td>\n",
       "      <td>1.0</td>\n",
       "    </tr>\n",
       "  </tbody>\n",
       "</table>\n",
       "</div>"
      ],
      "text/plain": [
       "action  click  view\n",
       "id                 \n",
       "182994    1.0   1.0\n",
       "183089    0.0   1.0\n",
       "183248    1.0   1.0\n",
       "183515    0.0   1.0\n",
       "183524    0.0   1.0"
      ]
     },
     "execution_count": 8,
     "metadata": {},
     "output_type": "execute_result"
    }
   ],
   "source": [
    "#Your code here\n",
    "df['count'] = 1\n",
    "#Convert clicks into a binary variable on a user-by-user-basis\n",
    "control = df[df.group=='control'].pivot(index='id', columns='action', values='count')\n",
    "control = control.fillna(value=0)\n",
    "\n",
    "experiment = df[df.group=='experiment'].pivot(index='id', columns='action', values='count')\n",
    "experiment = experiment.fillna(value=0)\n",
    "\n",
    "\n",
    "\n",
    "print(\"Sample sizes:\\tControl: {}\\tExperiment: {}\".format(len(control), len(experiment)))\n",
    "print(\"Total Clicks:\\tControl: {}\\tExperiment: {}\".format(control.click.sum(), experiment.click.sum()))\n",
    "print(\"Average click rate:\\tControl: {}\\tExperiment: {}\".format(control.click.mean(), experiment.click.mean()))\n",
    "control.head()"
   ]
  },
  {
   "cell_type": "code",
   "execution_count": 12,
   "metadata": {},
   "outputs": [
    {
     "data": {
      "text/plain": [
       "0.0044125494574791466"
      ]
     },
     "execution_count": 12,
     "metadata": {},
     "output_type": "execute_result"
    }
   ],
   "source": [
    "t_stat, p_value = stats.ttest_ind(control.click, experiment.click)\n",
    "p_value = p_value/2\n",
    "p_value"
   ]
  },
  {
   "cell_type": "markdown",
   "metadata": {},
   "source": [
    "## Verifying Results\n",
    "\n",
    "One sensible formulation of the data to answer the hypothesis test above would be to create a binary variable representing each individual in the experiment and control group. This binary variable would represent whether or not that individual clicked on the homepage; 1 for they did and 0 if they did not. \n",
    "\n",
    "The variance for the number of successes in a sample of a binomial variable with n observations is given by:\n",
    "\n",
    "## $n\\bullet p (1-p)$\n",
    "\n",
    "Given this, perform 3 steps to verify the results of your statistical test:\n",
    "1. Calculate the expected number of clicks for the experiment group, if it had the same click-through rate as that of the control group. \n",
    "2. Calculate the number of standard deviations that the actual number of clicks was from this estimate. \n",
    "3. Finally, calculate a p-value using the normal distribution based on this z-score."
   ]
  },
  {
   "cell_type": "markdown",
   "metadata": {},
   "source": [
    "### Step 1:\n",
    "Calculate the expected number of clicks for the experiment group, if it had the same click-through rate as that of the control group. "
   ]
  },
  {
   "cell_type": "code",
   "execution_count": 14,
   "metadata": {},
   "outputs": [
    {
     "data": {
      "text/plain": [
       "838.0168067226891"
      ]
     },
     "execution_count": 14,
     "metadata": {},
     "output_type": "execute_result"
    }
   ],
   "source": [
    "#Your code here\n",
    "expected_clicks = (sum(control['click']) / len(control['click'])) * (len(experiment['click']))\n",
    "expected_clicks"
   ]
  },
  {
   "cell_type": "markdown",
   "metadata": {},
   "source": [
    "### Step 2:\n",
    "Calculate the number of standard deviations that the actual number of clicks was from this estimate."
   ]
  },
  {
   "cell_type": "code",
   "execution_count": 16,
   "metadata": {},
   "outputs": [
    {
     "data": {
      "text/plain": [
       "-3.4729643112857396"
      ]
     },
     "execution_count": 16,
     "metadata": {},
     "output_type": "execute_result"
    }
   ],
   "source": [
    "#Your code here\n",
    "n = len(control['click'])\n",
    "p = control.click.mean()\n",
    "var = n * (p * (1 - p))\n",
    "std = var ** 0.5\n",
    "\n",
    "z = (expected_clicks - sum(experiment['click'])) / std\n",
    "z"
   ]
  },
  {
   "cell_type": "markdown",
   "metadata": {},
   "source": [
    "### Step 3: \n",
    "Finally, calculate a p-value using the normal distribution based on this z-score."
   ]
  },
  {
   "cell_type": "code",
   "execution_count": 17,
   "metadata": {},
   "outputs": [
    {
     "data": {
      "text/plain": [
       "0.00025737189895806245"
      ]
     },
     "execution_count": 17,
     "metadata": {},
     "output_type": "execute_result"
    }
   ],
   "source": [
    "#Your code here\n",
    "stats.norm.cdf(z)"
   ]
  },
  {
   "cell_type": "markdown",
   "metadata": {},
   "source": [
    "### Analysis:\n",
    "\n",
    "Does this result roughly match that of the previous statistical test?\n",
    "\n",
    "> Comment: **Your analysis here**"
   ]
  },
  {
   "cell_type": "markdown",
   "metadata": {},
   "source": [
    "## Summary\n",
    "\n",
    "In this lab, you continued to get more practice designing and conducting AB tests. This required additional work preprocessing and formulating the initial problem in a suitable manner. Additionally, you also saw how to verify results, strengthening your knowledge of binomial variables, and reviewing initial statistical concepts of the central limit theorem, standard deviation, z-scores, and their accompanying p-values."
   ]
  }
 ],
 "metadata": {
  "kernelspec": {
   "display_name": "Python 3",
   "language": "python",
   "name": "python3"
  },
  "language_info": {
   "codemirror_mode": {
    "name": "ipython",
    "version": 3
   },
   "file_extension": ".py",
   "mimetype": "text/x-python",
   "name": "python",
   "nbconvert_exporter": "python",
   "pygments_lexer": "ipython3",
   "version": "3.8.5"
  }
 },
 "nbformat": 4,
 "nbformat_minor": 2
}
